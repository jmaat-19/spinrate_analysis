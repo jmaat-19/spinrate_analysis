{
 "cells": [
  {
   "cell_type": "code",
   "execution_count": 42,
   "metadata": {},
   "outputs": [],
   "source": [
    "import pandas as pd\n",
    "import numpy as np\n",
    "import os\n",
    "import glob"
   ]
  },
  {
   "cell_type": "code",
   "execution_count": 2,
   "metadata": {},
   "outputs": [
    {
     "name": "stdout",
     "output_type": "stream",
     "text": [
      "/Users/jonathanmaat/data_science/alt_spin\r\n"
     ]
    }
   ],
   "source": [
    "# find the working directory w/ following command:\n",
    "!pwd"
   ]
  },
  {
   "cell_type": "code",
   "execution_count": 3,
   "metadata": {},
   "outputs": [
    {
     "name": "stdout",
     "output_type": "stream",
     "text": [
      "coors_curve_data.csv    petco_curve_data.csv    spinrate-analysis.ipynb\r\n",
      "coors_slider_data.csv   petco_slider_data.csv\r\n"
     ]
    }
   ],
   "source": [
    "# to find remaning files inside of alt_spin\n",
    "!ls"
   ]
  },
  {
   "cell_type": "code",
   "execution_count": 13,
   "metadata": {},
   "outputs": [
    {
     "data": {
      "text/html": [
       "<div>\n",
       "<style scoped>\n",
       "    .dataframe tbody tr th:only-of-type {\n",
       "        vertical-align: middle;\n",
       "    }\n",
       "\n",
       "    .dataframe tbody tr th {\n",
       "        vertical-align: top;\n",
       "    }\n",
       "\n",
       "    .dataframe thead th {\n",
       "        text-align: right;\n",
       "    }\n",
       "</style>\n",
       "<table border=\"1\" class=\"dataframe\">\n",
       "  <thead>\n",
       "    <tr style=\"text-align: right;\">\n",
       "      <th></th>\n",
       "      <th>pitches</th>\n",
       "      <th>player_id</th>\n",
       "      <th>year</th>\n",
       "      <th>total_pitches</th>\n",
       "      <th>pitch_percent</th>\n",
       "      <th>spin_rate</th>\n",
       "      <th>velocity</th>\n",
       "      <th>pitch_type</th>\n",
       "      <th>stadium</th>\n",
       "    </tr>\n",
       "  </thead>\n",
       "  <tbody>\n",
       "    <tr>\n",
       "      <th>0</th>\n",
       "      <td>46</td>\n",
       "      <td>HOU</td>\n",
       "      <td>2020</td>\n",
       "      <td>322</td>\n",
       "      <td>14.3</td>\n",
       "      <td>2954</td>\n",
       "      <td>79.5</td>\n",
       "      <td>curve</td>\n",
       "      <td>coors</td>\n",
       "    </tr>\n",
       "    <tr>\n",
       "      <th>1</th>\n",
       "      <td>49</td>\n",
       "      <td>CIN</td>\n",
       "      <td>2021</td>\n",
       "      <td>654</td>\n",
       "      <td>7.5</td>\n",
       "      <td>2913</td>\n",
       "      <td>81.1</td>\n",
       "      <td>curve</td>\n",
       "      <td>coors</td>\n",
       "    </tr>\n",
       "    <tr>\n",
       "      <th>2</th>\n",
       "      <td>43</td>\n",
       "      <td>HOU</td>\n",
       "      <td>2018</td>\n",
       "      <td>293</td>\n",
       "      <td>14.7</td>\n",
       "      <td>2911</td>\n",
       "      <td>81.0</td>\n",
       "      <td>curve</td>\n",
       "      <td>coors</td>\n",
       "    </tr>\n",
       "    <tr>\n",
       "      <th>3</th>\n",
       "      <td>86</td>\n",
       "      <td>CIN</td>\n",
       "      <td>2019</td>\n",
       "      <td>438</td>\n",
       "      <td>19.6</td>\n",
       "      <td>2858</td>\n",
       "      <td>80.5</td>\n",
       "      <td>curve</td>\n",
       "      <td>coors</td>\n",
       "    </tr>\n",
       "    <tr>\n",
       "      <th>4</th>\n",
       "      <td>43</td>\n",
       "      <td>ATL</td>\n",
       "      <td>2019</td>\n",
       "      <td>405</td>\n",
       "      <td>10.6</td>\n",
       "      <td>2832</td>\n",
       "      <td>75.9</td>\n",
       "      <td>curve</td>\n",
       "      <td>coors</td>\n",
       "    </tr>\n",
       "  </tbody>\n",
       "</table>\n",
       "</div>"
      ],
      "text/plain": [
       "   pitches player_id  year  total_pitches  pitch_percent  spin_rate  velocity  \\\n",
       "0       46       HOU  2020            322           14.3       2954      79.5   \n",
       "1       49       CIN  2021            654            7.5       2913      81.1   \n",
       "2       43       HOU  2018            293           14.7       2911      81.0   \n",
       "3       86       CIN  2019            438           19.6       2858      80.5   \n",
       "4       43       ATL  2019            405           10.6       2832      75.9   \n",
       "\n",
       "  pitch_type stadium  \n",
       "0      curve   coors  \n",
       "1      curve   coors  \n",
       "2      curve   coors  \n",
       "3      curve   coors  \n",
       "4      curve   coors  "
      ]
     },
     "execution_count": 13,
     "metadata": {},
     "output_type": "execute_result"
    }
   ],
   "source": [
    "#coors curveball dataframe\n",
    "df = pd.read_csv('coors_curve_data.csv') \n",
    "df['pitch_type'] = 'curve'\n",
    "df['stadium'] = 'coors'\n",
    "\n",
    "#remove columns\n",
    "df.drop(['player_name','ba','iso', 'babip','slg','woba','xwoba','xba','hits','abs','launch_speed','launch_angle','effective_speed','whiffs','swings','takes','eff_min_vel','release_extension','pos3_int_start_distance','pos4_int_start_distance','pos5_int_start_distance','pos6_int_start_distance','pos7_int_start_distance','pos8_int_start_distance','pos9_int_start_distance'], axis =1, inplace = True)\n",
    "df.head()\n"
   ]
  },
  {
   "cell_type": "code",
   "execution_count": 8,
   "metadata": {},
   "outputs": [
    {
     "data": {
      "text/html": [
       "<div>\n",
       "<style scoped>\n",
       "    .dataframe tbody tr th:only-of-type {\n",
       "        vertical-align: middle;\n",
       "    }\n",
       "\n",
       "    .dataframe tbody tr th {\n",
       "        vertical-align: top;\n",
       "    }\n",
       "\n",
       "    .dataframe thead th {\n",
       "        text-align: right;\n",
       "    }\n",
       "</style>\n",
       "<table border=\"1\" class=\"dataframe\">\n",
       "  <thead>\n",
       "    <tr style=\"text-align: right;\">\n",
       "      <th></th>\n",
       "      <th>pitches</th>\n",
       "      <th>player_id</th>\n",
       "      <th>year</th>\n",
       "      <th>total_pitches</th>\n",
       "      <th>pitch_percent</th>\n",
       "      <th>spin_rate</th>\n",
       "      <th>velocity</th>\n",
       "      <th>pitch_type</th>\n",
       "      <th>stadium</th>\n",
       "    </tr>\n",
       "  </thead>\n",
       "  <tbody>\n",
       "    <tr>\n",
       "      <th>0</th>\n",
       "      <td>40</td>\n",
       "      <td>HOU</td>\n",
       "      <td>2019</td>\n",
       "      <td>330</td>\n",
       "      <td>12.1</td>\n",
       "      <td>2677</td>\n",
       "      <td>83.5</td>\n",
       "      <td>slider</td>\n",
       "      <td>coors</td>\n",
       "    </tr>\n",
       "    <tr>\n",
       "      <th>1</th>\n",
       "      <td>63</td>\n",
       "      <td>MIL</td>\n",
       "      <td>2019</td>\n",
       "      <td>472</td>\n",
       "      <td>13.3</td>\n",
       "      <td>2643</td>\n",
       "      <td>85.8</td>\n",
       "      <td>slider</td>\n",
       "      <td>coors</td>\n",
       "    </tr>\n",
       "    <tr>\n",
       "      <th>2</th>\n",
       "      <td>92</td>\n",
       "      <td>ATL</td>\n",
       "      <td>2019</td>\n",
       "      <td>405</td>\n",
       "      <td>22.7</td>\n",
       "      <td>2639</td>\n",
       "      <td>84.5</td>\n",
       "      <td>slider</td>\n",
       "      <td>coors</td>\n",
       "    </tr>\n",
       "    <tr>\n",
       "      <th>3</th>\n",
       "      <td>199</td>\n",
       "      <td>CIN</td>\n",
       "      <td>2021</td>\n",
       "      <td>654</td>\n",
       "      <td>30.4</td>\n",
       "      <td>2626</td>\n",
       "      <td>85.8</td>\n",
       "      <td>slider</td>\n",
       "      <td>coors</td>\n",
       "    </tr>\n",
       "    <tr>\n",
       "      <th>4</th>\n",
       "      <td>123</td>\n",
       "      <td>SD</td>\n",
       "      <td>2020</td>\n",
       "      <td>996</td>\n",
       "      <td>12.3</td>\n",
       "      <td>2609</td>\n",
       "      <td>87.1</td>\n",
       "      <td>slider</td>\n",
       "      <td>coors</td>\n",
       "    </tr>\n",
       "  </tbody>\n",
       "</table>\n",
       "</div>"
      ],
      "text/plain": [
       "   pitches player_id  year  total_pitches  pitch_percent  spin_rate  velocity  \\\n",
       "0       40       HOU  2019            330           12.1       2677      83.5   \n",
       "1       63       MIL  2019            472           13.3       2643      85.8   \n",
       "2       92       ATL  2019            405           22.7       2639      84.5   \n",
       "3      199       CIN  2021            654           30.4       2626      85.8   \n",
       "4      123        SD  2020            996           12.3       2609      87.1   \n",
       "\n",
       "  pitch_type stadium  \n",
       "0     slider   coors  \n",
       "1     slider   coors  \n",
       "2     slider   coors  \n",
       "3     slider   coors  \n",
       "4     slider   coors  "
      ]
     },
     "execution_count": 8,
     "metadata": {},
     "output_type": "execute_result"
    }
   ],
   "source": [
    "#coors slider dataframe\n",
    "cs_df = pd.read_csv('coors_slider_data.csv') \n",
    "cs_df['pitch_type'] = 'slider'\n",
    "cs_df['stadium'] = 'coors'\n",
    "\n",
    "#remove columns\n",
    "cs_df.drop(['player_name','ba','iso', 'babip','slg','woba','xwoba','xba','hits','abs','launch_speed','launch_angle','effective_speed','whiffs','swings','takes','eff_min_vel','release_extension','pos3_int_start_distance','pos4_int_start_distance','pos5_int_start_distance','pos6_int_start_distance','pos7_int_start_distance','pos8_int_start_distance','pos9_int_start_distance'], axis =1, inplace = True)\n",
    "cs_df.head()"
   ]
  },
  {
   "cell_type": "code",
   "execution_count": 10,
   "metadata": {},
   "outputs": [
    {
     "data": {
      "text/html": [
       "<div>\n",
       "<style scoped>\n",
       "    .dataframe tbody tr th:only-of-type {\n",
       "        vertical-align: middle;\n",
       "    }\n",
       "\n",
       "    .dataframe tbody tr th {\n",
       "        vertical-align: top;\n",
       "    }\n",
       "\n",
       "    .dataframe thead th {\n",
       "        text-align: right;\n",
       "    }\n",
       "</style>\n",
       "<table border=\"1\" class=\"dataframe\">\n",
       "  <thead>\n",
       "    <tr style=\"text-align: right;\">\n",
       "      <th></th>\n",
       "      <th>pitches</th>\n",
       "      <th>player_id</th>\n",
       "      <th>year</th>\n",
       "      <th>total_pitches</th>\n",
       "      <th>pitch_percent</th>\n",
       "      <th>spin_rate</th>\n",
       "      <th>velocity</th>\n",
       "      <th>pitch_type</th>\n",
       "      <th>stadium</th>\n",
       "    </tr>\n",
       "  </thead>\n",
       "  <tbody>\n",
       "    <tr>\n",
       "      <th>0</th>\n",
       "      <td>46</td>\n",
       "      <td>HOU</td>\n",
       "      <td>2020</td>\n",
       "      <td>322</td>\n",
       "      <td>14.3</td>\n",
       "      <td>2954</td>\n",
       "      <td>79.5</td>\n",
       "      <td>curve</td>\n",
       "      <td>petco</td>\n",
       "    </tr>\n",
       "    <tr>\n",
       "      <th>1</th>\n",
       "      <td>49</td>\n",
       "      <td>CIN</td>\n",
       "      <td>2021</td>\n",
       "      <td>654</td>\n",
       "      <td>7.5</td>\n",
       "      <td>2913</td>\n",
       "      <td>81.1</td>\n",
       "      <td>curve</td>\n",
       "      <td>petco</td>\n",
       "    </tr>\n",
       "    <tr>\n",
       "      <th>2</th>\n",
       "      <td>43</td>\n",
       "      <td>HOU</td>\n",
       "      <td>2018</td>\n",
       "      <td>293</td>\n",
       "      <td>14.7</td>\n",
       "      <td>2911</td>\n",
       "      <td>81.0</td>\n",
       "      <td>curve</td>\n",
       "      <td>petco</td>\n",
       "    </tr>\n",
       "    <tr>\n",
       "      <th>3</th>\n",
       "      <td>86</td>\n",
       "      <td>CIN</td>\n",
       "      <td>2019</td>\n",
       "      <td>438</td>\n",
       "      <td>19.6</td>\n",
       "      <td>2858</td>\n",
       "      <td>80.5</td>\n",
       "      <td>curve</td>\n",
       "      <td>petco</td>\n",
       "    </tr>\n",
       "    <tr>\n",
       "      <th>4</th>\n",
       "      <td>43</td>\n",
       "      <td>ATL</td>\n",
       "      <td>2019</td>\n",
       "      <td>405</td>\n",
       "      <td>10.6</td>\n",
       "      <td>2832</td>\n",
       "      <td>75.9</td>\n",
       "      <td>curve</td>\n",
       "      <td>petco</td>\n",
       "    </tr>\n",
       "  </tbody>\n",
       "</table>\n",
       "</div>"
      ],
      "text/plain": [
       "   pitches player_id  year  total_pitches  pitch_percent  spin_rate  velocity  \\\n",
       "0       46       HOU  2020            322           14.3       2954      79.5   \n",
       "1       49       CIN  2021            654            7.5       2913      81.1   \n",
       "2       43       HOU  2018            293           14.7       2911      81.0   \n",
       "3       86       CIN  2019            438           19.6       2858      80.5   \n",
       "4       43       ATL  2019            405           10.6       2832      75.9   \n",
       "\n",
       "  pitch_type stadium  \n",
       "0      curve   petco  \n",
       "1      curve   petco  \n",
       "2      curve   petco  \n",
       "3      curve   petco  \n",
       "4      curve   petco  "
      ]
     },
     "execution_count": 10,
     "metadata": {},
     "output_type": "execute_result"
    }
   ],
   "source": [
    "#petco curveball dataframe\n",
    "pc_df = pd.read_csv('coors_curve_data.csv') \n",
    "pc_df['pitch_type'] = 'curve'\n",
    "pc_df['stadium'] = 'petco'\n",
    "\n",
    "#remove columns\n",
    "pc_df.drop(['player_name','ba','iso', 'babip','slg','woba','xwoba','xba','hits','abs','launch_speed','launch_angle','effective_speed','whiffs','swings','takes','eff_min_vel','release_extension','pos3_int_start_distance','pos4_int_start_distance','pos5_int_start_distance','pos6_int_start_distance','pos7_int_start_distance','pos8_int_start_distance','pos9_int_start_distance'], axis =1, inplace = True)\n",
    "pc_df.head()"
   ]
  },
  {
   "cell_type": "code",
   "execution_count": 11,
   "metadata": {},
   "outputs": [
    {
     "data": {
      "text/html": [
       "<div>\n",
       "<style scoped>\n",
       "    .dataframe tbody tr th:only-of-type {\n",
       "        vertical-align: middle;\n",
       "    }\n",
       "\n",
       "    .dataframe tbody tr th {\n",
       "        vertical-align: top;\n",
       "    }\n",
       "\n",
       "    .dataframe thead th {\n",
       "        text-align: right;\n",
       "    }\n",
       "</style>\n",
       "<table border=\"1\" class=\"dataframe\">\n",
       "  <thead>\n",
       "    <tr style=\"text-align: right;\">\n",
       "      <th></th>\n",
       "      <th>pitches</th>\n",
       "      <th>player_id</th>\n",
       "      <th>year</th>\n",
       "      <th>total_pitches</th>\n",
       "      <th>pitch_percent</th>\n",
       "      <th>spin_rate</th>\n",
       "      <th>velocity</th>\n",
       "      <th>pitch_type</th>\n",
       "      <th>stadium</th>\n",
       "    </tr>\n",
       "  </thead>\n",
       "  <tbody>\n",
       "    <tr>\n",
       "      <th>0</th>\n",
       "      <td>65</td>\n",
       "      <td>PIT</td>\n",
       "      <td>2021</td>\n",
       "      <td>388</td>\n",
       "      <td>16.8</td>\n",
       "      <td>2763</td>\n",
       "      <td>85.3</td>\n",
       "      <td>slider</td>\n",
       "      <td>petco</td>\n",
       "    </tr>\n",
       "    <tr>\n",
       "      <th>1</th>\n",
       "      <td>66</td>\n",
       "      <td>TB</td>\n",
       "      <td>2019</td>\n",
       "      <td>461</td>\n",
       "      <td>14.3</td>\n",
       "      <td>2746</td>\n",
       "      <td>84.8</td>\n",
       "      <td>slider</td>\n",
       "      <td>petco</td>\n",
       "    </tr>\n",
       "    <tr>\n",
       "      <th>2</th>\n",
       "      <td>95</td>\n",
       "      <td>ATL</td>\n",
       "      <td>2019</td>\n",
       "      <td>450</td>\n",
       "      <td>21.1</td>\n",
       "      <td>2620</td>\n",
       "      <td>84.0</td>\n",
       "      <td>slider</td>\n",
       "      <td>petco</td>\n",
       "    </tr>\n",
       "    <tr>\n",
       "      <th>3</th>\n",
       "      <td>83</td>\n",
       "      <td>PIT</td>\n",
       "      <td>2022</td>\n",
       "      <td>470</td>\n",
       "      <td>17.7</td>\n",
       "      <td>2611</td>\n",
       "      <td>86.3</td>\n",
       "      <td>slider</td>\n",
       "      <td>petco</td>\n",
       "    </tr>\n",
       "    <tr>\n",
       "      <th>4</th>\n",
       "      <td>915</td>\n",
       "      <td>SD</td>\n",
       "      <td>2020</td>\n",
       "      <td>4603</td>\n",
       "      <td>19.9</td>\n",
       "      <td>2604</td>\n",
       "      <td>86.4</td>\n",
       "      <td>slider</td>\n",
       "      <td>petco</td>\n",
       "    </tr>\n",
       "  </tbody>\n",
       "</table>\n",
       "</div>"
      ],
      "text/plain": [
       "   pitches player_id  year  total_pitches  pitch_percent  spin_rate  velocity  \\\n",
       "0       65       PIT  2021            388           16.8       2763      85.3   \n",
       "1       66        TB  2019            461           14.3       2746      84.8   \n",
       "2       95       ATL  2019            450           21.1       2620      84.0   \n",
       "3       83       PIT  2022            470           17.7       2611      86.3   \n",
       "4      915        SD  2020           4603           19.9       2604      86.4   \n",
       "\n",
       "  pitch_type stadium  \n",
       "0     slider   petco  \n",
       "1     slider   petco  \n",
       "2     slider   petco  \n",
       "3     slider   petco  \n",
       "4     slider   petco  "
      ]
     },
     "execution_count": 11,
     "metadata": {},
     "output_type": "execute_result"
    }
   ],
   "source": [
    "#petco slider dataframe\n",
    "ps_df = pd.read_csv('petco_slider_data.csv') \n",
    "ps_df['pitch_type'] = 'slider'\n",
    "ps_df['stadium'] = 'petco'\n",
    "\n",
    "#remove columns\n",
    "ps_df.drop(['player_name','ba','iso', 'babip','slg','woba','xwoba','xba','hits','abs','launch_speed','launch_angle','effective_speed','whiffs','swings','takes','eff_min_vel','release_extension','pos3_int_start_distance','pos4_int_start_distance','pos5_int_start_distance','pos6_int_start_distance','pos7_int_start_distance','pos8_int_start_distance','pos9_int_start_distance'], axis =1, inplace = True)\n",
    "ps_df.head()"
   ]
  },
  {
   "cell_type": "code",
   "execution_count": 37,
   "metadata": {},
   "outputs": [
    {
     "name": "stdout",
     "output_type": "stream",
     "text": [
      "['curve' 'slider']\n",
      "['coors' 'petco']\n"
     ]
    },
    {
     "data": {
      "text/plain": [
       "{'whiskers': [<matplotlib.lines.Line2D at 0x7f919aef8100>,\n",
       "  <matplotlib.lines.Line2D at 0x7f919aef8460>],\n",
       " 'caps': [<matplotlib.lines.Line2D at 0x7f919aef8790>,\n",
       "  <matplotlib.lines.Line2D at 0x7f919aef8af0>],\n",
       " 'boxes': [<matplotlib.lines.Line2D at 0x7f91907a0d60>],\n",
       " 'medians': [<matplotlib.lines.Line2D at 0x7f919aef8e50>],\n",
       " 'fliers': [<matplotlib.lines.Line2D at 0x7f919af041c0>],\n",
       " 'means': []}"
      ]
     },
     "execution_count": 37,
     "metadata": {},
     "output_type": "execute_result"
    },
    {
     "data": {
      "image/png": "[encoded data removed]",
      "text/plain": [
       "<Figure size 432x288 with 1 Axes>"
      ]
     },
     "metadata": {
      "needs_background": "light"
     },
     "output_type": "display_data"
    }
   ],
   "source": [
    "# combine the four dataframes together\n",
    "df = df.append(cs_df, ignore_index = True)\n",
    "df = df.append(ps_df, ignore_index = True)\n",
    "df = df.append(pc_df, ignore_index = True)\n",
    "\n",
    "print(df['pitch_type'].unique())\n",
    "print(df['stadium'].unique())\n",
    "\n",
    "plt.boxplot(df['pitches'])"
   ]
  },
  {
   "cell_type": "code",
   "execution_count": 26,
   "metadata": {},
   "outputs": [
    {
     "data": {
      "text/plain": [
       "<AxesSubplot:xlabel='year', ylabel='spin_rate'>"
      ]
     },
     "execution_count": 26,
     "metadata": {},
     "output_type": "execute_result"
    },
    {
     "data": {
      "image/png": "[encoded data removed]",
      "text/plain": [
       "<Figure size 432x288 with 1 Axes>"
      ]
     },
     "metadata": {
      "needs_background": "light"
     },
     "output_type": "display_data"
    }
   ],
   "source": [
    "# grouped boxplot with seaborn\n",
    "import seaborn as sns\n",
    "\n",
    "sns.boxplot(x='year', y='spin_rate', hue = 'pitch_type', data = df)\n",
    "\n"
   ]
  },
  {
   "cell_type": "markdown",
   "metadata": {},
   "source": [
    "## Originally I was wondering if there would be improvement in spin rate year to year, due to incrased usage in illegal substances but over there does not seem to be a large effect"
   ]
  },
  {
   "cell_type": "code",
   "execution_count": 35,
   "metadata": {},
   "outputs": [
    {
     "name": "stdout",
     "output_type": "stream",
     "text": [
      "['coors' 'petco']\n"
     ]
    },
    {
     "data": {
      "text/plain": [
       "<AxesSubplot:xlabel='year', ylabel='spin_rate'>"
      ]
     },
     "execution_count": 35,
     "metadata": {},
     "output_type": "execute_result"
    },
    {
     "data": {
      "image/png": "[encoded data removed]",
      "text/plain": [
       "<Figure size 432x288 with 1 Axes>"
      ]
     },
     "metadata": {
      "needs_background": "light"
     },
     "output_type": "display_data"
    }
   ],
   "source": [
    "# testing the difference in spin rate from park to park \n",
    "\n",
    "curve_df = df[df['pitch_type']== 'curve']\n",
    "\n",
    "# reasonability check make sure coors and petco in dataframe\n",
    "print(curve_df['stadium'].unique())\n",
    "\n",
    "sns.boxplot(x='year',y='spin_rate', hue='stadium', data = curve_df)"
   ]
  },
  {
   "cell_type": "code",
   "execution_count": 33,
   "metadata": {},
   "outputs": [
    {
     "data": {
      "text/plain": [
       "<AxesSubplot:xlabel='year', ylabel='spin_rate'>"
      ]
     },
     "execution_count": 33,
     "metadata": {},
     "output_type": "execute_result"
    },
    {
     "data": {
      "image/png": "[encoded data removed]",
      "text/plain": [
       "<Figure size 432x288 with 1 Axes>"
      ]
     },
     "metadata": {
      "needs_background": "light"
     },
     "output_type": "display_data"
    }
   ],
   "source": [
    "slider_df = df[df['pitch_type']=='slider']\n",
    "sns.boxplot(x='year',y='spin_rate', hue='stadium', data = slider_df)"
   ]
  },
  {
   "cell_type": "markdown",
   "metadata": {},
   "source": [
    "### It seems like using average team data is not suffient to see the difference in spin rate in higher altitude, I am going to attempt to pull data from individuals and compare their curveball and slider spins rates now."
   ]
  },
  {
   "cell_type": "code",
   "execution_count": 41,
   "metadata": {},
   "outputs": [],
   "source": [
    "# issue: average spin rate does not correlate to break of pitch\n",
    "# website does not allow for me to gather data for break of pitches between parks"
   ]
  },
  {
   "cell_type": "markdown",
   "metadata": {},
   "source": [
    "# THIS IS TOO DETRIMENTAL TO MY PROJECT"
   ]
  },
  {
   "cell_type": "code",
   "execution_count": 43,
   "metadata": {},
   "outputs": [
    {
     "name": "stdout",
     "output_type": "stream",
     "text": [
      "testing github\n"
     ]
    }
   ],
   "source": [
    "print('testing github')"
   ]
  }
 ],
 "metadata": {
  "kernelspec": {
   "display_name": "Python 3",
   "language": "python",
   "name": "python3"
  },
  "language_info": {
   "codemirror_mode": {
    "name": "ipython",
    "version": 3
   },
   "file_extension": ".py",
   "mimetype": "text/x-python",
   "name": "python",
   "nbconvert_exporter": "python",
   "pygments_lexer": "ipython3",
   "version": "3.8.5"
  }
 },
 "nbformat": 4,
 "nbformat_minor": 4
}
